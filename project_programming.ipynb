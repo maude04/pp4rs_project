{
 "cells": [
  {
   "cell_type": "markdown",
   "metadata": {},
   "source": [
    "# The relationship between US interest rates and public debt in developing countries"
   ]
  },
  {
   "cell_type": "markdown",
   "metadata": {},
   "source": [
    "## Setup of the Workspace"
   ]
  },
  {
   "cell_type": "markdown",
   "metadata": {},
   "source": [
    "### Packages"
   ]
  },
  {
   "cell_type": "code",
   "execution_count": 50,
   "metadata": {},
   "outputs": [
    {
     "ename": "ModuleNotFoundError",
     "evalue": "No module named 'sqlalchemy'",
     "output_type": "error",
     "traceback": [
      "\u001b[1;31m---------------------------------------------------------------------------\u001b[0m",
      "\u001b[1;31mModuleNotFoundError\u001b[0m                       Traceback (most recent call last)",
      "Cell \u001b[1;32mIn[50], line 4\u001b[0m\n\u001b[0;32m      1\u001b[0m \u001b[38;5;28;01mimport\u001b[39;00m \u001b[38;5;21;01mpandas\u001b[39;00m \u001b[38;5;28;01mas\u001b[39;00m \u001b[38;5;21;01mpd\u001b[39;00m\n\u001b[0;32m      2\u001b[0m \u001b[38;5;28;01mimport\u001b[39;00m \u001b[38;5;21;01mos\u001b[39;00m \n\u001b[1;32m----> 4\u001b[0m \u001b[38;5;28;01mfrom\u001b[39;00m \u001b[38;5;21;01msqlalchemy\u001b[39;00m \u001b[38;5;28;01mimport\u001b[39;00m create_engine\n",
      "\u001b[1;31mModuleNotFoundError\u001b[0m: No module named 'sqlalchemy'"
     ]
    }
   ],
   "source": [
    "import pandas as pd\n",
    "import os \n",
    "\n",
    "from sqlalchemy import create_engine"
   ]
  },
  {
   "cell_type": "markdown",
   "metadata": {},
   "source": [
    "### Paths"
   ]
  },
  {
   "cell_type": "code",
   "execution_count": 38,
   "metadata": {},
   "outputs": [],
   "source": [
    "cwd = os.getcwd()\n",
    "\n",
    "PATH_DATA = os.path.join(cwd, 'data')\n"
   ]
  },
  {
   "cell_type": "markdown",
   "metadata": {},
   "source": [
    "## Data"
   ]
  },
  {
   "cell_type": "markdown",
   "metadata": {},
   "source": [
    "### FRED\n",
    "contains data on US interest rates"
   ]
  },
  {
   "cell_type": "code",
   "execution_count": 37,
   "metadata": {},
   "outputs": [
    {
     "data": {
      "text/html": [
       "<div>\n",
       "<style scoped>\n",
       "    .dataframe tbody tr th:only-of-type {\n",
       "        vertical-align: middle;\n",
       "    }\n",
       "\n",
       "    .dataframe tbody tr th {\n",
       "        vertical-align: top;\n",
       "    }\n",
       "\n",
       "    .dataframe thead th {\n",
       "        text-align: right;\n",
       "    }\n",
       "</style>\n",
       "<table border=\"1\" class=\"dataframe\">\n",
       "  <thead>\n",
       "    <tr style=\"text-align: right;\">\n",
       "      <th></th>\n",
       "      <th>DATE</th>\n",
       "      <th>FEDFUNDS</th>\n",
       "    </tr>\n",
       "  </thead>\n",
       "  <tbody>\n",
       "    <tr>\n",
       "      <th>0</th>\n",
       "      <td>1954-07-01</td>\n",
       "      <td>0.80</td>\n",
       "    </tr>\n",
       "    <tr>\n",
       "      <th>1</th>\n",
       "      <td>1954-08-01</td>\n",
       "      <td>1.22</td>\n",
       "    </tr>\n",
       "    <tr>\n",
       "      <th>2</th>\n",
       "      <td>1954-09-01</td>\n",
       "      <td>1.07</td>\n",
       "    </tr>\n",
       "    <tr>\n",
       "      <th>3</th>\n",
       "      <td>1954-10-01</td>\n",
       "      <td>0.85</td>\n",
       "    </tr>\n",
       "    <tr>\n",
       "      <th>4</th>\n",
       "      <td>1954-11-01</td>\n",
       "      <td>0.83</td>\n",
       "    </tr>\n",
       "  </tbody>\n",
       "</table>\n",
       "</div>"
      ],
      "text/plain": [
       "         DATE  FEDFUNDS\n",
       "0  1954-07-01      0.80\n",
       "1  1954-08-01      1.22\n",
       "2  1954-09-01      1.07\n",
       "3  1954-10-01      0.85\n",
       "4  1954-11-01      0.83"
      ]
     },
     "execution_count": 37,
     "metadata": {},
     "output_type": "execute_result"
    }
   ],
   "source": [
    "# Download and read the CSV directly into a DataFrame\n",
    "#df_fred = pd.read_csv(\"C:/Users/Maude/OneDrive/Documents/etudes/UZH/PhD/2nd year/first semester/programming/project/data/FEDFUNDS.csv\")\n",
    "\n",
    "df_fred = pd.read_csv(os.path.join(PATH_DATA, 'FEDFUNDS.csv')) #.replace('\\\\', '/'))\n",
    "\n",
    "df_fred.head()\n",
    "\n"
   ]
  },
  {
   "cell_type": "markdown",
   "metadata": {},
   "source": [
    "### World Bank\n"
   ]
  },
  {
   "cell_type": "markdown",
   "metadata": {},
   "source": [
    "contains data on GNI, GNI per capita, population, external debt stock (% of GNI), external debt stock, official exchange rate, currency composition of PPG"
   ]
  },
  {
   "cell_type": "code",
   "execution_count": 57,
   "metadata": {},
   "outputs": [
    {
     "data": {
      "text/plain": [
       "(1601, 68)"
      ]
     },
     "execution_count": 57,
     "metadata": {},
     "output_type": "execute_result"
    }
   ],
   "source": [
    "df_WB_raw = pd.read_csv(os.path.join(PATH_DATA, 'World_Bank_data.csv')) #.replace('\\\\', '/'))\n",
    "df_WB_raw.head()\n",
    "df_WB_raw.shape\n"
   ]
  },
  {
   "cell_type": "code",
   "execution_count": 58,
   "metadata": {},
   "outputs": [
    {
     "data": {
      "text/plain": [
       "(141, 67)"
      ]
     },
     "execution_count": 58,
     "metadata": {},
     "output_type": "execute_result"
    }
   ],
   "source": [
    "df_WB_comp_raw = pd.read_csv(os.path.join(PATH_DATA, 'World_Bank_composition.csv')) #.replace('\\\\', '/'))\n",
    "df_WB_comp_raw.shape"
   ]
  },
  {
   "cell_type": "code",
   "execution_count": 60,
   "metadata": {},
   "outputs": [
    {
     "data": {
      "text/html": [
       "<div>\n",
       "<style scoped>\n",
       "    .dataframe tbody tr th:only-of-type {\n",
       "        vertical-align: middle;\n",
       "    }\n",
       "\n",
       "    .dataframe tbody tr th {\n",
       "        vertical-align: top;\n",
       "    }\n",
       "\n",
       "    .dataframe thead th {\n",
       "        text-align: right;\n",
       "    }\n",
       "</style>\n",
       "<table border=\"1\" class=\"dataframe\">\n",
       "  <thead>\n",
       "    <tr style=\"text-align: right;\">\n",
       "      <th></th>\n",
       "      <th>Country Name</th>\n",
       "      <th>Country Code</th>\n",
       "      <th>Series Name</th>\n",
       "      <th>Series Code</th>\n",
       "      <th>1960 [YR1960]</th>\n",
       "      <th>1961 [YR1961]</th>\n",
       "      <th>1962 [YR1962]</th>\n",
       "      <th>1963 [YR1963]</th>\n",
       "      <th>1964 [YR1964]</th>\n",
       "      <th>1965 [YR1965]</th>\n",
       "      <th>...</th>\n",
       "      <th>2023 [YR2023]</th>\n",
       "      <th>Counterpart-Area Name</th>\n",
       "      <th>Counterpart-Area Code</th>\n",
       "      <th>2024 [YR2024]</th>\n",
       "      <th>2025 [YR2025]</th>\n",
       "      <th>2026 [YR2026]</th>\n",
       "      <th>2027 [YR2027]</th>\n",
       "      <th>2028 [YR2028]</th>\n",
       "      <th>2029 [YR2029]</th>\n",
       "      <th>2030 [YR2030]</th>\n",
       "    </tr>\n",
       "  </thead>\n",
       "  <tbody>\n",
       "    <tr>\n",
       "      <th>0</th>\n",
       "      <td>Afghanistan</td>\n",
       "      <td>AFG</td>\n",
       "      <td>External debt stocks (% of GNI)</td>\n",
       "      <td>DT.DOD.DECT.GN.ZS</td>\n",
       "      <td>..</td>\n",
       "      <td>..</td>\n",
       "      <td>..</td>\n",
       "      <td>..</td>\n",
       "      <td>..</td>\n",
       "      <td>..</td>\n",
       "      <td>...</td>\n",
       "      <td>..</td>\n",
       "      <td>NaN</td>\n",
       "      <td>NaN</td>\n",
       "      <td>NaN</td>\n",
       "      <td>NaN</td>\n",
       "      <td>NaN</td>\n",
       "      <td>NaN</td>\n",
       "      <td>NaN</td>\n",
       "      <td>NaN</td>\n",
       "      <td>NaN</td>\n",
       "    </tr>\n",
       "    <tr>\n",
       "      <th>1</th>\n",
       "      <td>Afghanistan</td>\n",
       "      <td>AFG</td>\n",
       "      <td>External debt stocks, total (DOD, current US$)</td>\n",
       "      <td>DT.DOD.DECT.CD</td>\n",
       "      <td>..</td>\n",
       "      <td>..</td>\n",
       "      <td>..</td>\n",
       "      <td>..</td>\n",
       "      <td>..</td>\n",
       "      <td>..</td>\n",
       "      <td>...</td>\n",
       "      <td>..</td>\n",
       "      <td>NaN</td>\n",
       "      <td>NaN</td>\n",
       "      <td>NaN</td>\n",
       "      <td>NaN</td>\n",
       "      <td>NaN</td>\n",
       "      <td>NaN</td>\n",
       "      <td>NaN</td>\n",
       "      <td>NaN</td>\n",
       "      <td>NaN</td>\n",
       "    </tr>\n",
       "    <tr>\n",
       "      <th>2</th>\n",
       "      <td>Afghanistan</td>\n",
       "      <td>AFG</td>\n",
       "      <td>Official exchange rate (LCU per US$, period av...</td>\n",
       "      <td>PA.NUS.FCRF</td>\n",
       "      <td>17.1965606878624</td>\n",
       "      <td>17.1965606878624</td>\n",
       "      <td>17.1965606878624</td>\n",
       "      <td>35.1096447377192</td>\n",
       "      <td>38.6922615476905</td>\n",
       "      <td>38.6922615476905</td>\n",
       "      <td>...</td>\n",
       "      <td>..</td>\n",
       "      <td>NaN</td>\n",
       "      <td>NaN</td>\n",
       "      <td>NaN</td>\n",
       "      <td>NaN</td>\n",
       "      <td>NaN</td>\n",
       "      <td>NaN</td>\n",
       "      <td>NaN</td>\n",
       "      <td>NaN</td>\n",
       "      <td>NaN</td>\n",
       "    </tr>\n",
       "    <tr>\n",
       "      <th>3</th>\n",
       "      <td>Afghanistan</td>\n",
       "      <td>AFG</td>\n",
       "      <td>GNI (current US$)</td>\n",
       "      <td>NY.GNP.MKTP.CD</td>\n",
       "      <td>548888848.888889</td>\n",
       "      <td>560000022.222222</td>\n",
       "      <td>557777806.666667</td>\n",
       "      <td>766666706.666667</td>\n",
       "      <td>815555562.222222</td>\n",
       "      <td>1026666677.77778</td>\n",
       "      <td>...</td>\n",
       "      <td>..</td>\n",
       "      <td>NaN</td>\n",
       "      <td>NaN</td>\n",
       "      <td>NaN</td>\n",
       "      <td>NaN</td>\n",
       "      <td>NaN</td>\n",
       "      <td>NaN</td>\n",
       "      <td>NaN</td>\n",
       "      <td>NaN</td>\n",
       "      <td>NaN</td>\n",
       "    </tr>\n",
       "    <tr>\n",
       "      <th>4</th>\n",
       "      <td>Afghanistan</td>\n",
       "      <td>AFG</td>\n",
       "      <td>GNI per capita, PPP (current international $)</td>\n",
       "      <td>NY.GNP.PCAP.PP.CD</td>\n",
       "      <td>..</td>\n",
       "      <td>..</td>\n",
       "      <td>..</td>\n",
       "      <td>..</td>\n",
       "      <td>..</td>\n",
       "      <td>..</td>\n",
       "      <td>...</td>\n",
       "      <td>..</td>\n",
       "      <td>NaN</td>\n",
       "      <td>NaN</td>\n",
       "      <td>NaN</td>\n",
       "      <td>NaN</td>\n",
       "      <td>NaN</td>\n",
       "      <td>NaN</td>\n",
       "      <td>NaN</td>\n",
       "      <td>NaN</td>\n",
       "      <td>NaN</td>\n",
       "    </tr>\n",
       "  </tbody>\n",
       "</table>\n",
       "<p>5 rows × 77 columns</p>\n",
       "</div>"
      ],
      "text/plain": [
       "  Country Name Country Code  \\\n",
       "0  Afghanistan          AFG   \n",
       "1  Afghanistan          AFG   \n",
       "2  Afghanistan          AFG   \n",
       "3  Afghanistan          AFG   \n",
       "4  Afghanistan          AFG   \n",
       "\n",
       "                                         Series Name        Series Code  \\\n",
       "0                    External debt stocks (% of GNI)  DT.DOD.DECT.GN.ZS   \n",
       "1     External debt stocks, total (DOD, current US$)     DT.DOD.DECT.CD   \n",
       "2  Official exchange rate (LCU per US$, period av...        PA.NUS.FCRF   \n",
       "3                                  GNI (current US$)     NY.GNP.MKTP.CD   \n",
       "4      GNI per capita, PPP (current international $)  NY.GNP.PCAP.PP.CD   \n",
       "\n",
       "      1960 [YR1960]     1961 [YR1961]     1962 [YR1962]     1963 [YR1963]  \\\n",
       "0                ..                ..                ..                ..   \n",
       "1                ..                ..                ..                ..   \n",
       "2  17.1965606878624  17.1965606878624  17.1965606878624  35.1096447377192   \n",
       "3  548888848.888889  560000022.222222  557777806.666667  766666706.666667   \n",
       "4                ..                ..                ..                ..   \n",
       "\n",
       "      1964 [YR1964]     1965 [YR1965]  ... 2023 [YR2023]  \\\n",
       "0                ..                ..  ...            ..   \n",
       "1                ..                ..  ...            ..   \n",
       "2  38.6922615476905  38.6922615476905  ...            ..   \n",
       "3  815555562.222222  1026666677.77778  ...            ..   \n",
       "4                ..                ..  ...            ..   \n",
       "\n",
       "  Counterpart-Area Name Counterpart-Area Code 2024 [YR2024] 2025 [YR2025]  \\\n",
       "0                   NaN                   NaN           NaN           NaN   \n",
       "1                   NaN                   NaN           NaN           NaN   \n",
       "2                   NaN                   NaN           NaN           NaN   \n",
       "3                   NaN                   NaN           NaN           NaN   \n",
       "4                   NaN                   NaN           NaN           NaN   \n",
       "\n",
       "  2026 [YR2026] 2027 [YR2027] 2028 [YR2028] 2029 [YR2029] 2030 [YR2030]  \n",
       "0           NaN           NaN           NaN           NaN           NaN  \n",
       "1           NaN           NaN           NaN           NaN           NaN  \n",
       "2           NaN           NaN           NaN           NaN           NaN  \n",
       "3           NaN           NaN           NaN           NaN           NaN  \n",
       "4           NaN           NaN           NaN           NaN           NaN  \n",
       "\n",
       "[5 rows x 77 columns]"
      ]
     },
     "execution_count": 60,
     "metadata": {},
     "output_type": "execute_result"
    }
   ],
   "source": [
    "### Append the dataframes\n",
    "\n",
    "# Append df2 to df1\n",
    "WB_df = pd.concat([df_WB_raw, df_WB_comp_raw], ignore_index=True)\n",
    "WB_df.head()"
   ]
  }
 ],
 "metadata": {
  "kernelspec": {
   "display_name": "pp4rs_backup",
   "language": "python",
   "name": "python3"
  },
  "language_info": {
   "codemirror_mode": {
    "name": "ipython",
    "version": 3
   },
   "file_extension": ".py",
   "mimetype": "text/x-python",
   "name": "python",
   "nbconvert_exporter": "python",
   "pygments_lexer": "ipython3",
   "version": "3.12.5"
  }
 },
 "nbformat": 4,
 "nbformat_minor": 2
}
